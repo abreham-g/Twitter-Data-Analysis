{
 "cells": [
  {
   "cell_type": "code",
   "execution_count": 33,
   "id": "be6bb9de",
   "metadata": {},
   "outputs": [],
   "source": [
    "import pandas as pd\n",
    "import numpy as np\n",
    "import matplotlib.pyplot as plt\n",
    "import seaborn as sns\n",
    "import warnings\n",
    "import sys\n",
    "import os\n",
    "\n",
    "sys.path.append(os.path.abspath(os.path.join('..')))\n",
    "\n",
    "from extract_dataframe import TweetDfExtractor\n",
    "from extract_dataframe import read_json\n",
    "\n",
    "_, tweet_list = read_json(\"../data/covid19.json\")"
   ]
  },
  {
   "cell_type": "code",
   "execution_count": 28,
   "id": "63e5448e",
   "metadata": {},
   "outputs": [
    {
     "data": {
      "text/html": [
       "<div>\n",
       "<style scoped>\n",
       "    .dataframe tbody tr th:only-of-type {\n",
       "        vertical-align: middle;\n",
       "    }\n",
       "\n",
       "    .dataframe tbody tr th {\n",
       "        vertical-align: top;\n",
       "    }\n",
       "\n",
       "    .dataframe thead th {\n",
       "        text-align: right;\n",
       "    }\n",
       "</style>\n",
       "<table border=\"1\" class=\"dataframe\">\n",
       "  <thead>\n",
       "    <tr style=\"text-align: right;\">\n",
       "      <th></th>\n",
       "      <th>created_at</th>\n",
       "      <th>source</th>\n",
       "      <th>original_text</th>\n",
       "      <th>polarity</th>\n",
       "      <th>subjectivity</th>\n",
       "      <th>lang</th>\n",
       "      <th>favorite_count</th>\n",
       "      <th>retweet_count</th>\n",
       "      <th>original_author</th>\n",
       "      <th>followers_count</th>\n",
       "      <th>friends_count</th>\n",
       "      <th>possibly_sensitive</th>\n",
       "      <th>hashtags</th>\n",
       "      <th>user_mentions</th>\n",
       "      <th>place</th>\n",
       "    </tr>\n",
       "  </thead>\n",
       "  <tbody>\n",
       "    <tr>\n",
       "      <th>0</th>\n",
       "      <td>Fri Jun 18 17:55:49 +0000 2021</td>\n",
       "      <td>&lt;a href=\"http://twitter.com/download/iphone\" r...</td>\n",
       "      <td>RT @TelGlobalHealth: 🚨Africa is \"in the midst ...</td>\n",
       "      <td>0.000000</td>\n",
       "      <td>0.000000</td>\n",
       "      <td>en</td>\n",
       "      <td>None</td>\n",
       "      <td>None</td>\n",
       "      <td>ketuesriche</td>\n",
       "      <td>551</td>\n",
       "      <td>351</td>\n",
       "      <td>None</td>\n",
       "      <td>[]</td>\n",
       "      <td>[{'screen_name': 'TelGlobalHealth', 'name': 'T...</td>\n",
       "      <td>Mass</td>\n",
       "    </tr>\n",
       "    <tr>\n",
       "      <th>1</th>\n",
       "      <td>Fri Jun 18 17:55:59 +0000 2021</td>\n",
       "      <td>&lt;a href=\"https://mobile.twitter.com\" rel=\"nofo...</td>\n",
       "      <td>RT @globalhlthtwit: Dr Moeti is head of WHO in...</td>\n",
       "      <td>0.133333</td>\n",
       "      <td>0.455556</td>\n",
       "      <td>en</td>\n",
       "      <td>None</td>\n",
       "      <td>None</td>\n",
       "      <td>Grid1949</td>\n",
       "      <td>66</td>\n",
       "      <td>92</td>\n",
       "      <td>None</td>\n",
       "      <td>[]</td>\n",
       "      <td>[{'screen_name': 'globalhlthtwit', 'name': 'An...</td>\n",
       "      <td>Edinburgh, Scotland</td>\n",
       "    </tr>\n",
       "    <tr>\n",
       "      <th>2</th>\n",
       "      <td>Fri Jun 18 17:56:07 +0000 2021</td>\n",
       "      <td>&lt;a href=\"http://twitter.com/download/iphone\" r...</td>\n",
       "      <td>RT @NHSRDForum: Thank you @research2note for c...</td>\n",
       "      <td>0.316667</td>\n",
       "      <td>0.483333</td>\n",
       "      <td>en</td>\n",
       "      <td>None</td>\n",
       "      <td>None</td>\n",
       "      <td>LeeTomlinson8</td>\n",
       "      <td>1195</td>\n",
       "      <td>1176</td>\n",
       "      <td>None</td>\n",
       "      <td>[{'text': 'red4research', 'indices': [103, 116]}]</td>\n",
       "      <td>[{'screen_name': 'NHSRDForum', 'name': 'NHS R&amp;...</td>\n",
       "      <td>None</td>\n",
       "    </tr>\n",
       "    <tr>\n",
       "      <th>3</th>\n",
       "      <td>Fri Jun 18 17:56:10 +0000 2021</td>\n",
       "      <td>&lt;a href=\"https://mobile.twitter.com\" rel=\"nofo...</td>\n",
       "      <td>RT @HighWireTalk: Former Pfizer VP and Virolog...</td>\n",
       "      <td>0.166667</td>\n",
       "      <td>0.166667</td>\n",
       "      <td>en</td>\n",
       "      <td>None</td>\n",
       "      <td>None</td>\n",
       "      <td>RIPNY08</td>\n",
       "      <td>2666</td>\n",
       "      <td>2704</td>\n",
       "      <td>None</td>\n",
       "      <td>[]</td>\n",
       "      <td>[{'screen_name': 'HighWireTalk', 'name': 'The ...</td>\n",
       "      <td>None</td>\n",
       "    </tr>\n",
       "    <tr>\n",
       "      <th>4</th>\n",
       "      <td>Fri Jun 18 17:56:20 +0000 2021</td>\n",
       "      <td>&lt;a href=\"http://twitter.com/download/android\" ...</td>\n",
       "      <td>RT @PeterHotez: I think it’s important that we...</td>\n",
       "      <td>0.300000</td>\n",
       "      <td>0.766667</td>\n",
       "      <td>en</td>\n",
       "      <td>None</td>\n",
       "      <td>None</td>\n",
       "      <td>pash22</td>\n",
       "      <td>28250</td>\n",
       "      <td>30819</td>\n",
       "      <td>None</td>\n",
       "      <td>[]</td>\n",
       "      <td>[{'screen_name': 'PeterHotez', 'name': 'Prof P...</td>\n",
       "      <td>United Kingdom</td>\n",
       "    </tr>\n",
       "  </tbody>\n",
       "</table>\n",
       "</div>"
      ],
      "text/plain": [
       "                       created_at  \\\n",
       "0  Fri Jun 18 17:55:49 +0000 2021   \n",
       "1  Fri Jun 18 17:55:59 +0000 2021   \n",
       "2  Fri Jun 18 17:56:07 +0000 2021   \n",
       "3  Fri Jun 18 17:56:10 +0000 2021   \n",
       "4  Fri Jun 18 17:56:20 +0000 2021   \n",
       "\n",
       "                                              source  \\\n",
       "0  <a href=\"http://twitter.com/download/iphone\" r...   \n",
       "1  <a href=\"https://mobile.twitter.com\" rel=\"nofo...   \n",
       "2  <a href=\"http://twitter.com/download/iphone\" r...   \n",
       "3  <a href=\"https://mobile.twitter.com\" rel=\"nofo...   \n",
       "4  <a href=\"http://twitter.com/download/android\" ...   \n",
       "\n",
       "                                       original_text  polarity  subjectivity  \\\n",
       "0  RT @TelGlobalHealth: 🚨Africa is \"in the midst ...  0.000000      0.000000   \n",
       "1  RT @globalhlthtwit: Dr Moeti is head of WHO in...  0.133333      0.455556   \n",
       "2  RT @NHSRDForum: Thank you @research2note for c...  0.316667      0.483333   \n",
       "3  RT @HighWireTalk: Former Pfizer VP and Virolog...  0.166667      0.166667   \n",
       "4  RT @PeterHotez: I think it’s important that we...  0.300000      0.766667   \n",
       "\n",
       "  lang favorite_count retweet_count original_author  followers_count  \\\n",
       "0   en           None          None     ketuesriche              551   \n",
       "1   en           None          None        Grid1949               66   \n",
       "2   en           None          None   LeeTomlinson8             1195   \n",
       "3   en           None          None         RIPNY08             2666   \n",
       "4   en           None          None          pash22            28250   \n",
       "\n",
       "   friends_count possibly_sensitive  \\\n",
       "0            351               None   \n",
       "1             92               None   \n",
       "2           1176               None   \n",
       "3           2704               None   \n",
       "4          30819               None   \n",
       "\n",
       "                                            hashtags  \\\n",
       "0                                                 []   \n",
       "1                                                 []   \n",
       "2  [{'text': 'red4research', 'indices': [103, 116]}]   \n",
       "3                                                 []   \n",
       "4                                                 []   \n",
       "\n",
       "                                       user_mentions                place  \n",
       "0  [{'screen_name': 'TelGlobalHealth', 'name': 'T...                 Mass  \n",
       "1  [{'screen_name': 'globalhlthtwit', 'name': 'An...  Edinburgh, Scotland  \n",
       "2  [{'screen_name': 'NHSRDForum', 'name': 'NHS R&...                 None  \n",
       "3  [{'screen_name': 'HighWireTalk', 'name': 'The ...                 None  \n",
       "4  [{'screen_name': 'PeterHotez', 'name': 'Prof P...       United Kingdom  "
      ]
     },
     "execution_count": 28,
     "metadata": {},
     "output_type": "execute_result"
    }
   ],
   "source": [
    "tweets_df_extractor = TweetDfExtractor(tweet_list)\n",
    "tweets_df = tweets_df_extractor.get_tweet_df()\n",
    "tweets_df.head()"
   ]
  },
  {
   "cell_type": "code",
   "execution_count": 25,
   "id": "9f29993d",
   "metadata": {},
   "outputs": [
    {
     "data": {
      "text/html": [
       "<div>\n",
       "<style scoped>\n",
       "    .dataframe tbody tr th:only-of-type {\n",
       "        vertical-align: middle;\n",
       "    }\n",
       "\n",
       "    .dataframe tbody tr th {\n",
       "        vertical-align: top;\n",
       "    }\n",
       "\n",
       "    .dataframe thead th {\n",
       "        text-align: right;\n",
       "    }\n",
       "</style>\n",
       "<table border=\"1\" class=\"dataframe\">\n",
       "  <thead>\n",
       "    <tr style=\"text-align: right;\">\n",
       "      <th></th>\n",
       "      <th>created_at</th>\n",
       "      <th>source</th>\n",
       "      <th>original_text</th>\n",
       "      <th>polarity</th>\n",
       "      <th>subjectivity</th>\n",
       "      <th>lang</th>\n",
       "      <th>favorite_count</th>\n",
       "      <th>retweet_count</th>\n",
       "      <th>original_author</th>\n",
       "      <th>followers_count</th>\n",
       "      <th>friends_count</th>\n",
       "      <th>possibly_sensitive</th>\n",
       "      <th>hashtags</th>\n",
       "      <th>user_mentions</th>\n",
       "      <th>place</th>\n",
       "    </tr>\n",
       "  </thead>\n",
       "  <tbody>\n",
       "    <tr>\n",
       "      <th>6527</th>\n",
       "      <td>Sat Jun 19 07:41:15 +0000 2021</td>\n",
       "      <td>&lt;a href=\"http://twitter.com/download/android\" ...</td>\n",
       "      <td>RT @Givenkazeni: Zweli please just release the...</td>\n",
       "      <td>0.000000</td>\n",
       "      <td>0.400000</td>\n",
       "      <td>en</td>\n",
       "      <td>NaN</td>\n",
       "      <td>NaN</td>\n",
       "      <td>Mthatos_Vivi</td>\n",
       "      <td>447</td>\n",
       "      <td>1089</td>\n",
       "      <td>NaN</td>\n",
       "      <td>[]</td>\n",
       "      <td>[{'screen_name': 'Givenkazeni', 'name': 'le’Gi...</td>\n",
       "      <td>NaN</td>\n",
       "    </tr>\n",
       "    <tr>\n",
       "      <th>6528</th>\n",
       "      <td>Sat Jun 19 07:41:26 +0000 2021</td>\n",
       "      <td>&lt;a href=\"http://twitter.com/download/android\" ...</td>\n",
       "      <td>RT @HighWireTalk: Former Pfizer VP and Virolog...</td>\n",
       "      <td>0.166667</td>\n",
       "      <td>0.166667</td>\n",
       "      <td>en</td>\n",
       "      <td>NaN</td>\n",
       "      <td>NaN</td>\n",
       "      <td>wayno_af007</td>\n",
       "      <td>2224</td>\n",
       "      <td>2739</td>\n",
       "      <td>NaN</td>\n",
       "      <td>[]</td>\n",
       "      <td>[{'screen_name': 'HighWireTalk', 'name': 'The ...</td>\n",
       "      <td>The boro, MA</td>\n",
       "    </tr>\n",
       "    <tr>\n",
       "      <th>6529</th>\n",
       "      <td>Sat Jun 19 07:41:31 +0000 2021</td>\n",
       "      <td>&lt;a href=\"http://twitter.com/download/iphone\" r...</td>\n",
       "      <td>@Jenfeds73 @DcrInYYC Respectfully, veterinaria...</td>\n",
       "      <td>0.281250</td>\n",
       "      <td>0.506250</td>\n",
       "      <td>en</td>\n",
       "      <td>NaN</td>\n",
       "      <td>NaN</td>\n",
       "      <td>dublonothing</td>\n",
       "      <td>3000</td>\n",
       "      <td>4709</td>\n",
       "      <td>NaN</td>\n",
       "      <td>[]</td>\n",
       "      <td>[{'screen_name': 'Jenfeds73', 'name': 'Bubs 🇨🇦...</td>\n",
       "      <td>Los Angeles, CA</td>\n",
       "    </tr>\n",
       "    <tr>\n",
       "      <th>6530</th>\n",
       "      <td>Sat Jun 19 07:41:45 +0000 2021</td>\n",
       "      <td>&lt;a href=\"http://twitter.com/download/iphone\" r...</td>\n",
       "      <td>RT @WHOAFRO: \"Africa needs millions more doses...</td>\n",
       "      <td>0.166667</td>\n",
       "      <td>0.166667</td>\n",
       "      <td>en</td>\n",
       "      <td>NaN</td>\n",
       "      <td>NaN</td>\n",
       "      <td>DrAmirKhanGP</td>\n",
       "      <td>135163</td>\n",
       "      <td>1284</td>\n",
       "      <td>NaN</td>\n",
       "      <td>[{'text': 'COVID19', 'indices': [120, 128]}]</td>\n",
       "      <td>[{'screen_name': 'WHOAFRO', 'name': 'WHO Afric...</td>\n",
       "      <td>Yorkshire and The Humber</td>\n",
       "    </tr>\n",
       "    <tr>\n",
       "      <th>6531</th>\n",
       "      <td>Sat Jun 19 07:41:54 +0000 2021</td>\n",
       "      <td>&lt;a href=\"https://mobile.twitter.com\" rel=\"nofo...</td>\n",
       "      <td>RT @shawajason: Liars. You tried to load off y...</td>\n",
       "      <td>0.000000</td>\n",
       "      <td>0.000000</td>\n",
       "      <td>en</td>\n",
       "      <td>NaN</td>\n",
       "      <td>NaN</td>\n",
       "      <td>jepigepas_</td>\n",
       "      <td>160</td>\n",
       "      <td>712</td>\n",
       "      <td>False</td>\n",
       "      <td>[]</td>\n",
       "      <td>[{'screen_name': 'shawajason', 'name': 'J. Sha...</td>\n",
       "      <td>NaN</td>\n",
       "    </tr>\n",
       "  </tbody>\n",
       "</table>\n",
       "</div>"
      ],
      "text/plain": [
       "                          created_at  \\\n",
       "6527  Sat Jun 19 07:41:15 +0000 2021   \n",
       "6528  Sat Jun 19 07:41:26 +0000 2021   \n",
       "6529  Sat Jun 19 07:41:31 +0000 2021   \n",
       "6530  Sat Jun 19 07:41:45 +0000 2021   \n",
       "6531  Sat Jun 19 07:41:54 +0000 2021   \n",
       "\n",
       "                                                 source  \\\n",
       "6527  <a href=\"http://twitter.com/download/android\" ...   \n",
       "6528  <a href=\"http://twitter.com/download/android\" ...   \n",
       "6529  <a href=\"http://twitter.com/download/iphone\" r...   \n",
       "6530  <a href=\"http://twitter.com/download/iphone\" r...   \n",
       "6531  <a href=\"https://mobile.twitter.com\" rel=\"nofo...   \n",
       "\n",
       "                                          original_text  polarity  \\\n",
       "6527  RT @Givenkazeni: Zweli please just release the...  0.000000   \n",
       "6528  RT @HighWireTalk: Former Pfizer VP and Virolog...  0.166667   \n",
       "6529  @Jenfeds73 @DcrInYYC Respectfully, veterinaria...  0.281250   \n",
       "6530  RT @WHOAFRO: \"Africa needs millions more doses...  0.166667   \n",
       "6531  RT @shawajason: Liars. You tried to load off y...  0.000000   \n",
       "\n",
       "      subjectivity lang  favorite_count  retweet_count original_author  \\\n",
       "6527      0.400000   en             NaN            NaN    Mthatos_Vivi   \n",
       "6528      0.166667   en             NaN            NaN     wayno_af007   \n",
       "6529      0.506250   en             NaN            NaN    dublonothing   \n",
       "6530      0.166667   en             NaN            NaN    DrAmirKhanGP   \n",
       "6531      0.000000   en             NaN            NaN      jepigepas_   \n",
       "\n",
       "      followers_count  friends_count possibly_sensitive  \\\n",
       "6527              447           1089                NaN   \n",
       "6528             2224           2739                NaN   \n",
       "6529             3000           4709                NaN   \n",
       "6530           135163           1284                NaN   \n",
       "6531              160            712              False   \n",
       "\n",
       "                                          hashtags  \\\n",
       "6527                                            []   \n",
       "6528                                            []   \n",
       "6529                                            []   \n",
       "6530  [{'text': 'COVID19', 'indices': [120, 128]}]   \n",
       "6531                                            []   \n",
       "\n",
       "                                          user_mentions  \\\n",
       "6527  [{'screen_name': 'Givenkazeni', 'name': 'le’Gi...   \n",
       "6528  [{'screen_name': 'HighWireTalk', 'name': 'The ...   \n",
       "6529  [{'screen_name': 'Jenfeds73', 'name': 'Bubs 🇨🇦...   \n",
       "6530  [{'screen_name': 'WHOAFRO', 'name': 'WHO Afric...   \n",
       "6531  [{'screen_name': 'shawajason', 'name': 'J. Sha...   \n",
       "\n",
       "                         place  \n",
       "6527                       NaN  \n",
       "6528              The boro, MA  \n",
       "6529           Los Angeles, CA  \n",
       "6530  Yorkshire and The Humber  \n",
       "6531                       NaN  "
      ]
     },
     "execution_count": 25,
     "metadata": {},
     "output_type": "execute_result"
    }
   ],
   "source": [
    "tweet_df.tail()"
   ]
  },
  {
   "cell_type": "code",
   "execution_count": 34,
   "id": "21e91c8d",
   "metadata": {},
   "outputs": [
    {
     "data": {
      "text/plain": [
       "(6532, 15)"
      ]
     },
     "execution_count": 34,
     "metadata": {},
     "output_type": "execute_result"
    }
   ],
   "source": [
    "tweet_df.shape"
   ]
  },
  {
   "cell_type": "code",
   "execution_count": 35,
   "id": "27bf8195",
   "metadata": {},
   "outputs": [
    {
     "data": {
      "text/plain": [
       "RangeIndex(start=0, stop=6532, step=1)"
      ]
     },
     "execution_count": 35,
     "metadata": {},
     "output_type": "execute_result"
    }
   ],
   "source": [
    "tweet_df.index"
   ]
  },
  {
   "cell_type": "code",
   "execution_count": 37,
   "id": "731d4003",
   "metadata": {},
   "outputs": [
    {
     "data": {
      "text/plain": [
       "Index(['created_at', 'source', 'original_text', 'polarity', 'subjectivity',\n",
       "       'lang', 'favorite_count', 'retweet_count', 'original_author',\n",
       "       'followers_count', 'friends_count', 'possibly_sensitive', 'hashtags',\n",
       "       'user_mentions', 'place'],\n",
       "      dtype='object')"
      ]
     },
     "execution_count": 37,
     "metadata": {},
     "output_type": "execute_result"
    }
   ],
   "source": [
    "tweet_df.columns"
   ]
  },
  {
   "cell_type": "code",
   "execution_count": 39,
   "id": "ab5aa8b2",
   "metadata": {},
   "outputs": [
    {
     "data": {
      "text/plain": [
       "created_at               0\n",
       "source                   0\n",
       "original_text            0\n",
       "polarity                 0\n",
       "subjectivity             0\n",
       "lang                     0\n",
       "favorite_count        6532\n",
       "retweet_count         6532\n",
       "original_author          0\n",
       "followers_count          0\n",
       "friends_count            0\n",
       "possibly_sensitive    5014\n",
       "hashtags                 0\n",
       "user_mentions            0\n",
       "place                 2444\n",
       "dtype: int64"
      ]
     },
     "execution_count": 39,
     "metadata": {},
     "output_type": "execute_result"
    }
   ],
   "source": [
    "#checking the missing values \n",
    "tweet_df.isnull().sum()"
   ]
  },
  {
   "cell_type": "code",
   "execution_count": 40,
   "id": "86ad71ab",
   "metadata": {},
   "outputs": [
    {
     "data": {
      "text/plain": [
       "created_at            0.0\n",
       "source                0.0\n",
       "original_text         0.0\n",
       "polarity              0.0\n",
       "subjectivity          0.0\n",
       "lang                  0.0\n",
       "favorite_count        0.0\n",
       "retweet_count         0.0\n",
       "original_author       0.0\n",
       "followers_count       0.0\n",
       "friends_count         0.0\n",
       "possibly_sensitive    0.0\n",
       "hashtags              0.0\n",
       "user_mentions         0.0\n",
       "place                 0.0\n",
       "dtype: float64"
      ]
     },
     "execution_count": 40,
     "metadata": {},
     "output_type": "execute_result"
    }
   ],
   "source": [
    "#Handling the null values\n",
    "tweet_df.dropna(inplace=True)\n",
    "tweet_df.isnull().sum()"
   ]
  },
  {
   "cell_type": "code",
   "execution_count": 41,
   "id": "ace4386f",
   "metadata": {},
   "outputs": [
    {
     "data": {
      "text/plain": [
       "(0, 15)"
      ]
     },
     "execution_count": 41,
     "metadata": {},
     "output_type": "execute_result"
    }
   ],
   "source": [
    "tweet_df.shape"
   ]
  },
  {
   "cell_type": "code",
   "execution_count": 57,
   "id": "3fdf7716",
   "metadata": {},
   "outputs": [],
   "source": [
    "from clean_tweets_dataframe import Clean_Tweets"
   ]
  },
  {
   "cell_type": "code",
   "execution_count": 61,
   "id": "a48b8278",
   "metadata": {},
   "outputs": [
    {
     "name": "stdout",
     "output_type": "stream",
     "text": [
      "Automation in Action...!!!\n"
     ]
    },
    {
     "data": {
      "text/plain": [
       "Index(['created_at', 'source', 'original_text', 'polarity', 'subjectivity',\n",
       "       'lang', 'favorite_count', 'original_author', 'followers_count',\n",
       "       'friends_count', 'hashtags', 'user_mentions', 'place'],\n",
       "      dtype='object')"
      ]
     },
     "execution_count": 61,
     "metadata": {},
     "output_type": "execute_result"
    }
   ],
   "source": [
    "#removing retweeted count \n",
    "clean_tweets = Clean_Tweets(tweets_df)\n",
    "tweet_df = clean_tweets.drop_unwanted_column(tweets_df, [\"retweet_count\"])\n",
    "tweet_df.columns"
   ]
  },
  {
   "cell_type": "code",
   "execution_count": 62,
   "id": "358ce784",
   "metadata": {},
   "outputs": [
    {
     "data": {
      "text/plain": [
       "(6532, 13)"
      ]
     },
     "execution_count": 62,
     "metadata": {},
     "output_type": "execute_result"
    }
   ],
   "source": [
    "tweet_df = clean_tweets.remove_non_english_tweets(tweets_df)\n",
    "tweet_df.shape"
   ]
  },
  {
   "cell_type": "code",
   "execution_count": 63,
   "id": "c0bcd357",
   "metadata": {},
   "outputs": [
    {
     "data": {
      "text/plain": [
       "(6532, 13)"
      ]
     },
     "execution_count": 63,
     "metadata": {},
     "output_type": "execute_result"
    }
   ],
   "source": [
    "#checking non english tweets\n",
    "tweet_df = clean_tweets.remove_non_english_tweets(tweets_df)\n",
    "tweet_df.shape"
   ]
  },
  {
   "cell_type": "code",
   "execution_count": 64,
   "id": "638790cc",
   "metadata": {},
   "outputs": [
    {
     "data": {
      "text/plain": [
       "RT @shawajason: Liars. You tried to load off your expired vaccines. Just another war crime by Israel. https://t.co/TI0vK8DQLw                       594\n",
       "RT @globalhlthtwit: Dr Moeti is head of WHO in Africa, and one of the best public health experts and leaders I know. Hers is a desperate re…        198\n",
       "RT @BogochIsaac: 204,344 #COVID19 vaccines have been administered so far today in Ontario. 84% are 2nd doses.\\n\\nThese are huge vaccine days.…      187\n",
       "RT @CDCDirector: I’m pleased to welcome the #WeCanDoThis bus to Atlanta today! Remember, there are 3 easy ways to find a #COVID19 vaccine n…        137\n",
       "RT @shawajason: Liars. You tried to load off your expired vaccines. Just another war crime by Israel. https://t.co/MBBXzCwqqZ https://t.co/…        121\n",
       "                                                                                                                                                   ... \n",
       "#COVAX was supposed to help lower-income countries but developing countries in Africa are forced to fend for themse… https://t.co/cyKqjXXPng          1\n",
       "New report explains how Epstein made his most powerful friends https://t.co/ic69WGycYZ\\nEPSTEIN DIDN'T KILL HIMSELF!… https://t.co/HciNWpTR4D         1\n",
       "at first glance, I thought ke catalogue ya Shoprite.                                                                                                  1\n",
       "Pin Code:[411011] \\nKamala Nehru PMCG\\nVaccines: COVAXIN,\\nMin Age Limit: [18,45],\\nDose1 Capacity: 0,\\nDose2 Capacity:… https://t.co/mhKlgX2peK      1\n",
       "Pin Code:[411004] \\nBMCC-DEENANATH HOSPITAL PVT\\nVaccines: COVISHIELD,\\nMin Age Limit: [18,45],\\nDose1 Capacity: 537,29… https://t.co/f5PfaxE9KG      1\n",
       "Name: original_text, Length: 2593, dtype: int64"
      ]
     },
     "execution_count": 64,
     "metadata": {},
     "output_type": "execute_result"
    }
   ],
   "source": [
    "tweet_df['original_text'].value_counts()"
   ]
  },
  {
   "cell_type": "code",
   "execution_count": 65,
   "id": "a7fd6ea4",
   "metadata": {},
   "outputs": [
    {
     "name": "stderr",
     "output_type": "stream",
     "text": [
      "<ipython-input-65-1da51f7bb4c2>:2: FutureWarning: The default value of regex will change from True to False in a future version.\n",
      "  tweets_df[\"clean_text\"] = tweets_df[\"original_text\"].str.replace(\"[^a-zA-Z#@\\s]\", \"\")\n"
     ]
    },
    {
     "data": {
      "text/html": [
       "<div>\n",
       "<style scoped>\n",
       "    .dataframe tbody tr th:only-of-type {\n",
       "        vertical-align: middle;\n",
       "    }\n",
       "\n",
       "    .dataframe tbody tr th {\n",
       "        vertical-align: top;\n",
       "    }\n",
       "\n",
       "    .dataframe thead th {\n",
       "        text-align: right;\n",
       "    }\n",
       "</style>\n",
       "<table border=\"1\" class=\"dataframe\">\n",
       "  <thead>\n",
       "    <tr style=\"text-align: right;\">\n",
       "      <th></th>\n",
       "      <th>original_text</th>\n",
       "      <th>clean_text</th>\n",
       "    </tr>\n",
       "  </thead>\n",
       "  <tbody>\n",
       "    <tr>\n",
       "      <th>0</th>\n",
       "      <td>RT @TelGlobalHealth: 🚨Africa is \"in the midst ...</td>\n",
       "      <td>RT @TelGlobalHealth Africa is in the midst of ...</td>\n",
       "    </tr>\n",
       "    <tr>\n",
       "      <th>1</th>\n",
       "      <td>RT @globalhlthtwit: Dr Moeti is head of WHO in...</td>\n",
       "      <td>RT @globalhlthtwit Dr Moeti is head of WHO in ...</td>\n",
       "    </tr>\n",
       "    <tr>\n",
       "      <th>2</th>\n",
       "      <td>RT @NHSRDForum: Thank you @research2note for c...</td>\n",
       "      <td>RT @NHSRDForum Thank you @researchnote for cre...</td>\n",
       "    </tr>\n",
       "    <tr>\n",
       "      <th>3</th>\n",
       "      <td>RT @HighWireTalk: Former Pfizer VP and Virolog...</td>\n",
       "      <td>RT @HighWireTalk Former Pfizer VP and Virologi...</td>\n",
       "    </tr>\n",
       "    <tr>\n",
       "      <th>4</th>\n",
       "      <td>RT @PeterHotez: I think it’s important that we...</td>\n",
       "      <td>RT @PeterHotez I think its important that we d...</td>\n",
       "    </tr>\n",
       "    <tr>\n",
       "      <th>...</th>\n",
       "      <td>...</td>\n",
       "      <td>...</td>\n",
       "    </tr>\n",
       "    <tr>\n",
       "      <th>6527</th>\n",
       "      <td>RT @Givenkazeni: Zweli please just release the...</td>\n",
       "      <td>RT @Givenkazeni Zweli please just release the ...</td>\n",
       "    </tr>\n",
       "    <tr>\n",
       "      <th>6528</th>\n",
       "      <td>RT @HighWireTalk: Former Pfizer VP and Virolog...</td>\n",
       "      <td>RT @HighWireTalk Former Pfizer VP and Virologi...</td>\n",
       "    </tr>\n",
       "    <tr>\n",
       "      <th>6529</th>\n",
       "      <td>@Jenfeds73 @DcrInYYC Respectfully, veterinaria...</td>\n",
       "      <td>@Jenfeds @DcrInYYC Respectfully veterinarians ...</td>\n",
       "    </tr>\n",
       "    <tr>\n",
       "      <th>6530</th>\n",
       "      <td>RT @WHOAFRO: \"Africa needs millions more doses...</td>\n",
       "      <td>RT @WHOAFRO Africa needs millions more doses h...</td>\n",
       "    </tr>\n",
       "    <tr>\n",
       "      <th>6531</th>\n",
       "      <td>RT @shawajason: Liars. You tried to load off y...</td>\n",
       "      <td>RT @shawajason Liars You tried to load off you...</td>\n",
       "    </tr>\n",
       "  </tbody>\n",
       "</table>\n",
       "<p>6532 rows × 2 columns</p>\n",
       "</div>"
      ],
      "text/plain": [
       "                                          original_text  \\\n",
       "0     RT @TelGlobalHealth: 🚨Africa is \"in the midst ...   \n",
       "1     RT @globalhlthtwit: Dr Moeti is head of WHO in...   \n",
       "2     RT @NHSRDForum: Thank you @research2note for c...   \n",
       "3     RT @HighWireTalk: Former Pfizer VP and Virolog...   \n",
       "4     RT @PeterHotez: I think it’s important that we...   \n",
       "...                                                 ...   \n",
       "6527  RT @Givenkazeni: Zweli please just release the...   \n",
       "6528  RT @HighWireTalk: Former Pfizer VP and Virolog...   \n",
       "6529  @Jenfeds73 @DcrInYYC Respectfully, veterinaria...   \n",
       "6530  RT @WHOAFRO: \"Africa needs millions more doses...   \n",
       "6531  RT @shawajason: Liars. You tried to load off y...   \n",
       "\n",
       "                                             clean_text  \n",
       "0     RT @TelGlobalHealth Africa is in the midst of ...  \n",
       "1     RT @globalhlthtwit Dr Moeti is head of WHO in ...  \n",
       "2     RT @NHSRDForum Thank you @researchnote for cre...  \n",
       "3     RT @HighWireTalk Former Pfizer VP and Virologi...  \n",
       "4     RT @PeterHotez I think its important that we d...  \n",
       "...                                                 ...  \n",
       "6527  RT @Givenkazeni Zweli please just release the ...  \n",
       "6528  RT @HighWireTalk Former Pfizer VP and Virologi...  \n",
       "6529  @Jenfeds @DcrInYYC Respectfully veterinarians ...  \n",
       "6530  RT @WHOAFRO Africa needs millions more doses h...  \n",
       "6531  RT @shawajason Liars You tried to load off you...  \n",
       "\n",
       "[6532 rows x 2 columns]"
      ]
     },
     "execution_count": 65,
     "metadata": {},
     "output_type": "execute_result"
    }
   ],
   "source": [
    "# remove non-alphabetic characters\n",
    "tweet_df[\"clean_text\"] = tweet_df[\"original_text\"].str.replace(\"[^a-zA-Z#@\\s]\", \"\")\n",
    "tweet_df[\"clean_text\"] = tweet_df[\"clean_text\"].str.replace(\"\\n\", \"\\s\")\n",
    "tweet_df[[\"original_text\", \"clean_text\"]]"
   ]
  },
  {
   "cell_type": "code",
   "execution_count": null,
   "id": "a9c94232",
   "metadata": {},
   "outputs": [],
   "source": [
    "dummy = pd.get_dumies()"
   ]
  }
 ],
 "metadata": {
  "kernelspec": {
   "display_name": "Python 3",
   "language": "python",
   "name": "python3"
  },
  "language_info": {
   "codemirror_mode": {
    "name": "ipython",
    "version": 3
   },
   "file_extension": ".py",
   "mimetype": "text/x-python",
   "name": "python",
   "nbconvert_exporter": "python",
   "pygments_lexer": "ipython3",
   "version": "3.9.1"
  }
 },
 "nbformat": 4,
 "nbformat_minor": 5
}
