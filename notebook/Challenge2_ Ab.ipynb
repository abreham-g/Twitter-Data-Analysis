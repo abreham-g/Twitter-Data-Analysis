{
 "cells": [
  {
   "cell_type": "markdown",
   "metadata": {
    "id": "zDwep1K8Erxl"
   },
   "source": [
    "**Project:** Data Minining Project for  X company"
   ]
  },
  {
   "cell_type": "markdown",
   "metadata": {
    "id": "d7-ii3uyI8KY"
   },
   "source": [
    "The CRISP-DM Framework\n",
    "\n",
    "\n",
    "The CRISP-DM methodology provides a structured approach to planning a data mining project. It is a robust and well-proven methodology.\n",
    "* Business understanding (BU): Determine Business Objectives, Assess Situation, Determine Data Mining Goals, Produce Project Plan\n",
    "\n",
    "* Data understanding (DU): Collect Initial Data, Describe Data, Explore Data, Verify Data Quality\n",
    "\n",
    "* Data preparation (DP): Select Data, Clean Data, Construct Data, Integrate Data\n",
    "\n",
    "* Modeling (M): Select modeling technique, Generate Test Design, Build Model, Assess Model\n",
    "*  Evaluation (E): Evaluate Results, Review Process, Determine Next Steps\n",
    "*  Deployment (D): Plan Deployment, Plan Monitoring and Maintenance, Produce Final Report, Review Project\n",
    "\n",
    "\n",
    "References:\n",
    "\n",
    "[What is the CRISP-DM methodology?](https://www.sv-europe.com/crisp-dm-methodology/)\n",
    "\n",
    "[Introduction to CRISP DM Framework for Data Science and Machine Learning](https://www.linkedin.com/pulse/chapter-1-introduction-crisp-dm-framework-data-science-anshul-roy/)"
   ]
  },
  {
   "cell_type": "markdown",
   "metadata": {
    "id": "5lo7Ml7tMQOf"
   },
   "source": [
    "**Data Set**\n",
    "### The data is for company X which is trying to control attrition. \n",
    "### There are two sets of data: \"Existing employees\" and \"Employees who have left\". The following attributes are available for every employee.\n",
    "\n",
    "\n",
    "*   Satisfaction Level\n",
    "\n",
    "*   Last evaluation\n",
    "\n",
    "*   Number of projects\n",
    "\n",
    "*   Average monthly hours\n",
    "\n",
    "*   Time spent at the company\n",
    "*   Whether they have had a work accident\n",
    "\n",
    "\n",
    "*  Whether they have had a promotion in the last 5 years\n",
    "\n",
    "\n",
    "*   Departments (column sales)\n",
    "\n",
    "\n",
    "*   Salary\n",
    "\n",
    "\n",
    "*  Whether the employee has left\n",
    "\n",
    "\n",
    "\n",
    "\n",
    "\n",
    "\n",
    "\n",
    "\n",
    "\n",
    "\n",
    "\n",
    "\n",
    "\n",
    "\n",
    "\n",
    "\n"
   ]
  },
  {
   "cell_type": "markdown",
   "metadata": {
    "id": "sjSj2A2sSph_"
   },
   "source": [
    "**Your Role**\n",
    " \n",
    "\n",
    "*   As data science team member X company asked you to answer this two questions.\n",
    "*  What type of employees is leaving? \n",
    "\n",
    "*   Determine which employees are prone to leave next.\n",
    "\n",
    "\n",
    "\n",
    "\n"
   ]
  },
  {
   "cell_type": "markdown",
   "metadata": {
    "id": "ajdEVA7LiBUp"
   },
   "source": [
    "Business Understanding\n",
    "\n",
    "---\n",
    "\n",
    "This step mostly focuses on understanding the Business in all the different aspects. It follows the below different steps.\n",
    "\n",
    "\n",
    "\n",
    "\n",
    "* Identify the goal and frame the business problem.\n",
    "* Prepare Analytical Goal i.e. what type of performance metric and loss function to use\n",
    "* Gather information on resource, constraints, assumptions, risks etc\n",
    "* Gather information on resource, constraints, assumptions, risks etc\n",
    "*   Prepare Work Flow Chart"
   ]
  },
  {
   "cell_type": "markdown",
   "metadata": {
    "id": "J4MwiCYzj2_u"
   },
   "source": [
    "### Write the main objectives of this project in your words?\n",
    "minimum of 100 characters"
   ]
  },
  {
   "cell_type": "code",
   "execution_count": 1,
   "metadata": {
    "id": "STyLda45j1Mf"
   },
   "outputs": [],
   "source": [
    "main_objectives =''' the objective of studying the data in company x is to discover \n",
    "insights from massive amount of data provided by company x. which is structured data to get solution that help \n",
    "the company x to know which employee is leaving and also to Determine which employees are prone to leave and it helps the company x to \n",
    "shape or meet specific business needs and Goals.the second thing in this project is to study\n",
    "the data given by company x and to extract knowledge from a data set. \n",
    "'''"
   ]
  },
  {
   "cell_type": "code",
   "execution_count": 3,
   "metadata": {
    "id": "CuOlxLxKMOLI"
   },
   "outputs": [],
   "source": [
    "assert len(main_objectives) > 100 \n",
    "### BEGIN HIDDEN TESTS\n",
    "assert len(main_objectives) > 80 \n",
    "### END HIDDEN TESTS"
   ]
  },
  {
   "cell_type": "markdown",
   "metadata": {
    "id": "NyXeNxlCkbaw"
   },
   "source": [
    "### Outline the different data analysis steps you will follow to carry out the project"
   ]
  },
  {
   "cell_type": "code",
   "execution_count": 4,
   "metadata": {
    "id": "rC-tl8sUksQq"
   },
   "outputs": [],
   "source": [
    "dm_outline = '''\n",
    "the data analysis step I will follow is that \n",
    "1.I will Define Questions\n",
    "2.I will Set Clear Measurement Priorities\n",
    "3.I will collect Data\n",
    "4.I will Analyze Data collected\n",
    "5.then I will Interpret Results\n",
    "'''"
   ]
  },
  {
   "cell_type": "code",
   "execution_count": 5,
   "metadata": {
    "id": "-K1mWuDoksTk"
   },
   "outputs": [],
   "source": [
    "assert len(dm_outline) > 100 \n",
    "### BEGIN HIDDEN TESTS\n",
    "assert len(dm_outline) > 70 \n",
    "### END HIDDEN TESTS"
   ]
  },
  {
   "cell_type": "markdown",
   "metadata": {
    "id": "pmUDFG1wkzUy"
   },
   "source": [
    "### What metrics will you use to measure the performance of your data analysis model? \n",
    "Write the equations of the metrics here"
   ]
  },
  {
   "cell_type": "markdown",
   "metadata": {
    "id": "KCNulojKk_BP"
   },
   "source": [
    "Accuracy  = $\\frac{TP+TN}{total}$\n",
    "\n",
    "True Positive Rate = $\\frac{TP}{actual yes}$ \n",
    "\n",
    "False Positive Rate = $\\frac{FP}{actual no}$\n",
    "        \n",
    "True Negative Rate = $\\frac{TN}{actual no}$\n",
    "        \n",
    "Precision =$\\frac {TP}{predicted yes}$\n",
    "\n",
    "\n",
    "\n"
   ]
  },
  {
   "cell_type": "markdown",
   "metadata": {
    "id": "vLS2YHoRk_EK"
   },
   "source": [
    "Why do you choose these metrics? minimum of 100 characters"
   ]
  },
  {
   "cell_type": "code",
   "execution_count": 2,
   "metadata": {
    "id": "LSynT14KlPSJ"
   },
   "outputs": [],
   "source": [
    "why_metrics = '''\n",
    "Because The confusion matrix used to describe \n",
    "the performance of a classification model (or \"classifier\") \n",
    "on a set of test data for which the true values are known.'''"
   ]
  },
  {
   "cell_type": "code",
   "execution_count": 4,
   "metadata": {
    "id": "yr-Mk0E8lPVJ"
   },
   "outputs": [],
   "source": [
    "assert len(why_metrics) > 100 \n",
    "### BEGIN HIDDEN TESTS\n",
    "assert len(why_metrics) > 80 \n",
    "### END HIDDEN TESTS"
   ]
  },
  {
   "cell_type": "markdown",
   "metadata": {
    "id": "aAo19Ip6lUtm"
   },
   "source": [
    "### How would you know if your data analysis work is a success or not?\n",
    "minimum of 100 characters"
   ]
  },
  {
   "cell_type": "code",
   "execution_count": 6,
   "metadata": {
    "id": "HESsiXW5llX-"
   },
   "outputs": [],
   "source": [
    "how_success = '''\n",
    "To know how my Data analysis work is successful, \n",
    "I Will See my final Interpreted Result of Data analysis if it is Acceptable by company x,it is satisfactory.\n",
    "if not I will go back to see what happen to my Data analysis work and repeatedly,\n",
    "I will try to solve the problem.'''"
   ]
  },
  {
   "cell_type": "code",
   "execution_count": 7,
   "metadata": {
    "id": "FdUoiMIOlmXq"
   },
   "outputs": [],
   "source": [
    "assert len(how_success) > 100 \n",
    "### BEGIN HIDDEN TESTS\n",
    "assert len(how_success) > 80 \n",
    "### END HIDDEN TESTS"
   ]
  },
  {
   "cell_type": "markdown",
   "metadata": {
    "id": "DQE6dqo6l1TZ"
   },
   "source": [
    "## What kind of challenges do you expect in your analysis?\n",
    "List at least 3 challenges"
   ]
  },
  {
   "cell_type": "code",
   "execution_count": 8,
   "metadata": {
    "id": "WrAhBQhQl8Lh"
   },
   "outputs": [],
   "source": [
    "challenge_text = '''\n",
    "Many challenges may occur in each step of Data analysis. Some of these are:\n",
    " 1.the amount of data collected.\n",
    " 2.Collecting meaningful and real-time data\n",
    " 3.Inaccessible data\n",
    "'''"
   ]
  },
  {
   "cell_type": "code",
   "execution_count": 9,
   "metadata": {
    "id": "EedHa-Pll8X7"
   },
   "outputs": [],
   "source": [
    "assert len(challenge_text) > 100 \n",
    "### BEGIN HIDDEN TESTS\n",
    "assert len(how_success) > 80 \n",
    "### END HIDDEN TESTS"
   ]
  },
  {
   "cell_type": "markdown",
   "metadata": {
    "id": "ZcJ8M6uWDeSE"
   },
   "source": [
    "<h2>Using the processed twitter data from yesterday's challenge</h2>.\n",
    "\n",
    "\n",
    "- Form a new data frame (named `cleanTweet`), containing columns $\\textbf{clean-text}$ and $\\textbf{polarity}$.\n",
    "\n",
    "- Write a function `text_category` that takes a value `p` and returns, depending on the value of p, a string `'positive'`, `'negative'` or `'neutral'`.\n",
    "\n",
    "- Apply this function (`text_category`) on the $\\textbf{polarity}$ column of `cleanTweet` in 1 above to form a new column called $\\textbf{score}$ in `cleanTweet`.\n",
    "\n",
    "- Visualize The $\\textbf{score}$ column using piechart and barchart\n",
    "\n",
    "<h5>Now we want to build a classification model on the clean tweet following the steps below:</h5>\n",
    "\n",
    "* Remove rows from `cleanTweet` where $\\textbf{polarity}$ $= 0$ (i.e where $\\textbf{score}$ = Neutral) and reset the frame index.\n",
    "* Construct a column $\\textbf{scoremap}$ Use the mapping {'positive':1, 'negative':0} on the $\\textbf{score}$ column\n",
    "* Create feature and target variables `(X,y)` from $\\textbf{clean-text}$ and $\\textbf{scoremap}$ columns respectively.\n",
    "* Use `train_test_split` function to construct `(X_train, y_train)` and `(X_test, y_test)` from `(X,y)`\n",
    "\n",
    "* Build an `SGDClassifier` model from the vectorize train text data. Use `CountVectorizer()` with a $\\textit{trigram}$ parameter.\n",
    "\n",
    "* Evaluate your model on the test data.\n"
   ]
  },
  {
   "cell_type": "markdown",
   "metadata": {},
   "source": [
    "<h3>Extract tweets dataframe<h3>"
   ]
  },
  {
   "cell_type": "code",
   "execution_count": 6,
   "metadata": {
    "id": "85WxmGNGDcBY"
   },
   "outputs": [
    {
     "data": {
      "text/html": [
       "<div>\n",
       "<style scoped>\n",
       "    .dataframe tbody tr th:only-of-type {\n",
       "        vertical-align: middle;\n",
       "    }\n",
       "\n",
       "    .dataframe tbody tr th {\n",
       "        vertical-align: top;\n",
       "    }\n",
       "\n",
       "    .dataframe thead th {\n",
       "        text-align: right;\n",
       "    }\n",
       "</style>\n",
       "<table border=\"1\" class=\"dataframe\">\n",
       "  <thead>\n",
       "    <tr style=\"text-align: right;\">\n",
       "      <th></th>\n",
       "      <th>created_at</th>\n",
       "      <th>source</th>\n",
       "      <th>original_text</th>\n",
       "      <th>polarity</th>\n",
       "      <th>subjectivity</th>\n",
       "      <th>lang</th>\n",
       "      <th>favorite_count</th>\n",
       "      <th>retweet_count</th>\n",
       "      <th>original_author</th>\n",
       "      <th>followers_count</th>\n",
       "      <th>friends_count</th>\n",
       "      <th>possibly_sensitive</th>\n",
       "      <th>hashtags</th>\n",
       "      <th>user_mentions</th>\n",
       "      <th>place</th>\n",
       "    </tr>\n",
       "  </thead>\n",
       "  <tbody>\n",
       "    <tr>\n",
       "      <th>0</th>\n",
       "      <td>Fri Jun 18 17:55:49 +0000 2021</td>\n",
       "      <td>&lt;a href=\"http://twitter.com/download/iphone\" r...</td>\n",
       "      <td>RT @TelGlobalHealth: 🚨Africa is \"in the midst ...</td>\n",
       "      <td>0.000000</td>\n",
       "      <td>0.000000</td>\n",
       "      <td>en</td>\n",
       "      <td>None</td>\n",
       "      <td>None</td>\n",
       "      <td>ketuesriche</td>\n",
       "      <td>551</td>\n",
       "      <td>351</td>\n",
       "      <td>None</td>\n",
       "      <td>[]</td>\n",
       "      <td>[{'screen_name': 'TelGlobalHealth', 'name': 'T...</td>\n",
       "      <td>Mass</td>\n",
       "    </tr>\n",
       "    <tr>\n",
       "      <th>1</th>\n",
       "      <td>Fri Jun 18 17:55:59 +0000 2021</td>\n",
       "      <td>&lt;a href=\"https://mobile.twitter.com\" rel=\"nofo...</td>\n",
       "      <td>RT @globalhlthtwit: Dr Moeti is head of WHO in...</td>\n",
       "      <td>0.133333</td>\n",
       "      <td>0.455556</td>\n",
       "      <td>en</td>\n",
       "      <td>None</td>\n",
       "      <td>None</td>\n",
       "      <td>Grid1949</td>\n",
       "      <td>66</td>\n",
       "      <td>92</td>\n",
       "      <td>None</td>\n",
       "      <td>[]</td>\n",
       "      <td>[{'screen_name': 'globalhlthtwit', 'name': 'An...</td>\n",
       "      <td>Edinburgh, Scotland</td>\n",
       "    </tr>\n",
       "    <tr>\n",
       "      <th>2</th>\n",
       "      <td>Fri Jun 18 17:56:07 +0000 2021</td>\n",
       "      <td>&lt;a href=\"http://twitter.com/download/iphone\" r...</td>\n",
       "      <td>RT @NHSRDForum: Thank you @research2note for c...</td>\n",
       "      <td>0.316667</td>\n",
       "      <td>0.483333</td>\n",
       "      <td>en</td>\n",
       "      <td>None</td>\n",
       "      <td>None</td>\n",
       "      <td>LeeTomlinson8</td>\n",
       "      <td>1195</td>\n",
       "      <td>1176</td>\n",
       "      <td>None</td>\n",
       "      <td>[{'text': 'red4research', 'indices': [103, 116]}]</td>\n",
       "      <td>[{'screen_name': 'NHSRDForum', 'name': 'NHS R&amp;...</td>\n",
       "      <td>None</td>\n",
       "    </tr>\n",
       "    <tr>\n",
       "      <th>3</th>\n",
       "      <td>Fri Jun 18 17:56:10 +0000 2021</td>\n",
       "      <td>&lt;a href=\"https://mobile.twitter.com\" rel=\"nofo...</td>\n",
       "      <td>RT @HighWireTalk: Former Pfizer VP and Virolog...</td>\n",
       "      <td>0.166667</td>\n",
       "      <td>0.166667</td>\n",
       "      <td>en</td>\n",
       "      <td>None</td>\n",
       "      <td>None</td>\n",
       "      <td>RIPNY08</td>\n",
       "      <td>2666</td>\n",
       "      <td>2704</td>\n",
       "      <td>None</td>\n",
       "      <td>[]</td>\n",
       "      <td>[{'screen_name': 'HighWireTalk', 'name': 'The ...</td>\n",
       "      <td>None</td>\n",
       "    </tr>\n",
       "    <tr>\n",
       "      <th>4</th>\n",
       "      <td>Fri Jun 18 17:56:20 +0000 2021</td>\n",
       "      <td>&lt;a href=\"http://twitter.com/download/android\" ...</td>\n",
       "      <td>RT @PeterHotez: I think it’s important that we...</td>\n",
       "      <td>0.300000</td>\n",
       "      <td>0.766667</td>\n",
       "      <td>en</td>\n",
       "      <td>None</td>\n",
       "      <td>None</td>\n",
       "      <td>pash22</td>\n",
       "      <td>28250</td>\n",
       "      <td>30819</td>\n",
       "      <td>None</td>\n",
       "      <td>[]</td>\n",
       "      <td>[{'screen_name': 'PeterHotez', 'name': 'Prof P...</td>\n",
       "      <td>United Kingdom</td>\n",
       "    </tr>\n",
       "    <tr>\n",
       "      <th>...</th>\n",
       "      <td>...</td>\n",
       "      <td>...</td>\n",
       "      <td>...</td>\n",
       "      <td>...</td>\n",
       "      <td>...</td>\n",
       "      <td>...</td>\n",
       "      <td>...</td>\n",
       "      <td>...</td>\n",
       "      <td>...</td>\n",
       "      <td>...</td>\n",
       "      <td>...</td>\n",
       "      <td>...</td>\n",
       "      <td>...</td>\n",
       "      <td>...</td>\n",
       "      <td>...</td>\n",
       "    </tr>\n",
       "    <tr>\n",
       "      <th>6527</th>\n",
       "      <td>Sat Jun 19 07:41:15 +0000 2021</td>\n",
       "      <td>&lt;a href=\"http://twitter.com/download/android\" ...</td>\n",
       "      <td>RT @Givenkazeni: Zweli please just release the...</td>\n",
       "      <td>0.000000</td>\n",
       "      <td>0.400000</td>\n",
       "      <td>en</td>\n",
       "      <td>None</td>\n",
       "      <td>None</td>\n",
       "      <td>Mthatos_Vivi</td>\n",
       "      <td>447</td>\n",
       "      <td>1089</td>\n",
       "      <td>None</td>\n",
       "      <td>[]</td>\n",
       "      <td>[{'screen_name': 'Givenkazeni', 'name': 'le’Gi...</td>\n",
       "      <td>None</td>\n",
       "    </tr>\n",
       "    <tr>\n",
       "      <th>6528</th>\n",
       "      <td>Sat Jun 19 07:41:26 +0000 2021</td>\n",
       "      <td>&lt;a href=\"http://twitter.com/download/android\" ...</td>\n",
       "      <td>RT @HighWireTalk: Former Pfizer VP and Virolog...</td>\n",
       "      <td>0.166667</td>\n",
       "      <td>0.166667</td>\n",
       "      <td>en</td>\n",
       "      <td>None</td>\n",
       "      <td>None</td>\n",
       "      <td>wayno_af007</td>\n",
       "      <td>2224</td>\n",
       "      <td>2739</td>\n",
       "      <td>None</td>\n",
       "      <td>[]</td>\n",
       "      <td>[{'screen_name': 'HighWireTalk', 'name': 'The ...</td>\n",
       "      <td>The boro, MA</td>\n",
       "    </tr>\n",
       "    <tr>\n",
       "      <th>6529</th>\n",
       "      <td>Sat Jun 19 07:41:31 +0000 2021</td>\n",
       "      <td>&lt;a href=\"http://twitter.com/download/iphone\" r...</td>\n",
       "      <td>@Jenfeds73 @DcrInYYC Respectfully, veterinaria...</td>\n",
       "      <td>0.281250</td>\n",
       "      <td>0.506250</td>\n",
       "      <td>en</td>\n",
       "      <td>None</td>\n",
       "      <td>None</td>\n",
       "      <td>dublonothing</td>\n",
       "      <td>3000</td>\n",
       "      <td>4709</td>\n",
       "      <td>None</td>\n",
       "      <td>[]</td>\n",
       "      <td>[{'screen_name': 'Jenfeds73', 'name': 'Bubs 🇨🇦...</td>\n",
       "      <td>Los Angeles, CA</td>\n",
       "    </tr>\n",
       "    <tr>\n",
       "      <th>6530</th>\n",
       "      <td>Sat Jun 19 07:41:45 +0000 2021</td>\n",
       "      <td>&lt;a href=\"http://twitter.com/download/iphone\" r...</td>\n",
       "      <td>RT @WHOAFRO: \"Africa needs millions more doses...</td>\n",
       "      <td>0.166667</td>\n",
       "      <td>0.166667</td>\n",
       "      <td>en</td>\n",
       "      <td>None</td>\n",
       "      <td>None</td>\n",
       "      <td>DrAmirKhanGP</td>\n",
       "      <td>135163</td>\n",
       "      <td>1284</td>\n",
       "      <td>None</td>\n",
       "      <td>[{'text': 'COVID19', 'indices': [120, 128]}]</td>\n",
       "      <td>[{'screen_name': 'WHOAFRO', 'name': 'WHO Afric...</td>\n",
       "      <td>Yorkshire and The Humber</td>\n",
       "    </tr>\n",
       "    <tr>\n",
       "      <th>6531</th>\n",
       "      <td>Sat Jun 19 07:41:54 +0000 2021</td>\n",
       "      <td>&lt;a href=\"https://mobile.twitter.com\" rel=\"nofo...</td>\n",
       "      <td>RT @shawajason: Liars. You tried to load off y...</td>\n",
       "      <td>0.000000</td>\n",
       "      <td>0.000000</td>\n",
       "      <td>en</td>\n",
       "      <td>None</td>\n",
       "      <td>None</td>\n",
       "      <td>jepigepas_</td>\n",
       "      <td>160</td>\n",
       "      <td>712</td>\n",
       "      <td>False</td>\n",
       "      <td>[]</td>\n",
       "      <td>[{'screen_name': 'shawajason', 'name': 'J. Sha...</td>\n",
       "      <td>None</td>\n",
       "    </tr>\n",
       "  </tbody>\n",
       "</table>\n",
       "<p>6532 rows × 15 columns</p>\n",
       "</div>"
      ],
      "text/plain": [
       "                          created_at  \\\n",
       "0     Fri Jun 18 17:55:49 +0000 2021   \n",
       "1     Fri Jun 18 17:55:59 +0000 2021   \n",
       "2     Fri Jun 18 17:56:07 +0000 2021   \n",
       "3     Fri Jun 18 17:56:10 +0000 2021   \n",
       "4     Fri Jun 18 17:56:20 +0000 2021   \n",
       "...                              ...   \n",
       "6527  Sat Jun 19 07:41:15 +0000 2021   \n",
       "6528  Sat Jun 19 07:41:26 +0000 2021   \n",
       "6529  Sat Jun 19 07:41:31 +0000 2021   \n",
       "6530  Sat Jun 19 07:41:45 +0000 2021   \n",
       "6531  Sat Jun 19 07:41:54 +0000 2021   \n",
       "\n",
       "                                                 source  \\\n",
       "0     <a href=\"http://twitter.com/download/iphone\" r...   \n",
       "1     <a href=\"https://mobile.twitter.com\" rel=\"nofo...   \n",
       "2     <a href=\"http://twitter.com/download/iphone\" r...   \n",
       "3     <a href=\"https://mobile.twitter.com\" rel=\"nofo...   \n",
       "4     <a href=\"http://twitter.com/download/android\" ...   \n",
       "...                                                 ...   \n",
       "6527  <a href=\"http://twitter.com/download/android\" ...   \n",
       "6528  <a href=\"http://twitter.com/download/android\" ...   \n",
       "6529  <a href=\"http://twitter.com/download/iphone\" r...   \n",
       "6530  <a href=\"http://twitter.com/download/iphone\" r...   \n",
       "6531  <a href=\"https://mobile.twitter.com\" rel=\"nofo...   \n",
       "\n",
       "                                          original_text  polarity  \\\n",
       "0     RT @TelGlobalHealth: 🚨Africa is \"in the midst ...  0.000000   \n",
       "1     RT @globalhlthtwit: Dr Moeti is head of WHO in...  0.133333   \n",
       "2     RT @NHSRDForum: Thank you @research2note for c...  0.316667   \n",
       "3     RT @HighWireTalk: Former Pfizer VP and Virolog...  0.166667   \n",
       "4     RT @PeterHotez: I think it’s important that we...  0.300000   \n",
       "...                                                 ...       ...   \n",
       "6527  RT @Givenkazeni: Zweli please just release the...  0.000000   \n",
       "6528  RT @HighWireTalk: Former Pfizer VP and Virolog...  0.166667   \n",
       "6529  @Jenfeds73 @DcrInYYC Respectfully, veterinaria...  0.281250   \n",
       "6530  RT @WHOAFRO: \"Africa needs millions more doses...  0.166667   \n",
       "6531  RT @shawajason: Liars. You tried to load off y...  0.000000   \n",
       "\n",
       "      subjectivity lang favorite_count retweet_count original_author  \\\n",
       "0         0.000000   en           None          None     ketuesriche   \n",
       "1         0.455556   en           None          None        Grid1949   \n",
       "2         0.483333   en           None          None   LeeTomlinson8   \n",
       "3         0.166667   en           None          None         RIPNY08   \n",
       "4         0.766667   en           None          None          pash22   \n",
       "...            ...  ...            ...           ...             ...   \n",
       "6527      0.400000   en           None          None    Mthatos_Vivi   \n",
       "6528      0.166667   en           None          None     wayno_af007   \n",
       "6529      0.506250   en           None          None    dublonothing   \n",
       "6530      0.166667   en           None          None    DrAmirKhanGP   \n",
       "6531      0.000000   en           None          None      jepigepas_   \n",
       "\n",
       "      followers_count  friends_count possibly_sensitive  \\\n",
       "0                 551            351               None   \n",
       "1                  66             92               None   \n",
       "2                1195           1176               None   \n",
       "3                2666           2704               None   \n",
       "4               28250          30819               None   \n",
       "...               ...            ...                ...   \n",
       "6527              447           1089               None   \n",
       "6528             2224           2739               None   \n",
       "6529             3000           4709               None   \n",
       "6530           135163           1284               None   \n",
       "6531              160            712              False   \n",
       "\n",
       "                                               hashtags  \\\n",
       "0                                                    []   \n",
       "1                                                    []   \n",
       "2     [{'text': 'red4research', 'indices': [103, 116]}]   \n",
       "3                                                    []   \n",
       "4                                                    []   \n",
       "...                                                 ...   \n",
       "6527                                                 []   \n",
       "6528                                                 []   \n",
       "6529                                                 []   \n",
       "6530       [{'text': 'COVID19', 'indices': [120, 128]}]   \n",
       "6531                                                 []   \n",
       "\n",
       "                                          user_mentions  \\\n",
       "0     [{'screen_name': 'TelGlobalHealth', 'name': 'T...   \n",
       "1     [{'screen_name': 'globalhlthtwit', 'name': 'An...   \n",
       "2     [{'screen_name': 'NHSRDForum', 'name': 'NHS R&...   \n",
       "3     [{'screen_name': 'HighWireTalk', 'name': 'The ...   \n",
       "4     [{'screen_name': 'PeterHotez', 'name': 'Prof P...   \n",
       "...                                                 ...   \n",
       "6527  [{'screen_name': 'Givenkazeni', 'name': 'le’Gi...   \n",
       "6528  [{'screen_name': 'HighWireTalk', 'name': 'The ...   \n",
       "6529  [{'screen_name': 'Jenfeds73', 'name': 'Bubs 🇨🇦...   \n",
       "6530  [{'screen_name': 'WHOAFRO', 'name': 'WHO Afric...   \n",
       "6531  [{'screen_name': 'shawajason', 'name': 'J. Sha...   \n",
       "\n",
       "                         place  \n",
       "0                         Mass  \n",
       "1          Edinburgh, Scotland  \n",
       "2                         None  \n",
       "3                         None  \n",
       "4               United Kingdom  \n",
       "...                        ...  \n",
       "6527                      None  \n",
       "6528              The boro, MA  \n",
       "6529           Los Angeles, CA  \n",
       "6530  Yorkshire and The Humber  \n",
       "6531                      None  \n",
       "\n",
       "[6532 rows x 15 columns]"
      ]
     },
     "execution_count": 6,
     "metadata": {},
     "output_type": "execute_result"
    }
   ],
   "source": [
    "import pandas as pd\n",
    "import sys, os\n",
    "sys.path.append(os.path.abspath(os.path.join('..')))\n",
    "\n",
    "from extract_dataframe import read_json\n",
    "from extract_dataframe import TweetDfExtractor\n",
    "\n",
    "_, tweet_list = read_json(\"../data/covid19.json\")\n",
    "\n",
    "tweets_df_extractor =TweetDfExtractor(tweet_list)\n",
    "tweets_df = tweets_df_extractor.get_tweet_df()\n",
    "tweets_df"
   ]
  },
  {
   "cell_type": "code",
   "execution_count": 32,
   "metadata": {},
   "outputs": [
    {
     "data": {
      "text/html": [
       "<div>\n",
       "<style scoped>\n",
       "    .dataframe tbody tr th:only-of-type {\n",
       "        vertical-align: middle;\n",
       "    }\n",
       "\n",
       "    .dataframe tbody tr th {\n",
       "        vertical-align: top;\n",
       "    }\n",
       "\n",
       "    .dataframe thead th {\n",
       "        text-align: right;\n",
       "    }\n",
       "</style>\n",
       "<table border=\"1\" class=\"dataframe\">\n",
       "  <thead>\n",
       "    <tr style=\"text-align: right;\">\n",
       "      <th></th>\n",
       "      <th>original_text</th>\n",
       "      <th>polarity</th>\n",
       "    </tr>\n",
       "  </thead>\n",
       "  <tbody>\n",
       "    <tr>\n",
       "      <th>0</th>\n",
       "      <td>RT @TelGlobalHealth: 🚨Africa is \"in the midst ...</td>\n",
       "      <td>0.000000</td>\n",
       "    </tr>\n",
       "    <tr>\n",
       "      <th>1</th>\n",
       "      <td>RT @globalhlthtwit: Dr Moeti is head of WHO in...</td>\n",
       "      <td>0.133333</td>\n",
       "    </tr>\n",
       "    <tr>\n",
       "      <th>2</th>\n",
       "      <td>RT @NHSRDForum: Thank you @research2note for c...</td>\n",
       "      <td>0.316667</td>\n",
       "    </tr>\n",
       "    <tr>\n",
       "      <th>3</th>\n",
       "      <td>RT @HighWireTalk: Former Pfizer VP and Virolog...</td>\n",
       "      <td>0.166667</td>\n",
       "    </tr>\n",
       "    <tr>\n",
       "      <th>4</th>\n",
       "      <td>RT @PeterHotez: I think it’s important that we...</td>\n",
       "      <td>0.300000</td>\n",
       "    </tr>\n",
       "    <tr>\n",
       "      <th>...</th>\n",
       "      <td>...</td>\n",
       "      <td>...</td>\n",
       "    </tr>\n",
       "    <tr>\n",
       "      <th>6527</th>\n",
       "      <td>RT @Givenkazeni: Zweli please just release the...</td>\n",
       "      <td>0.000000</td>\n",
       "    </tr>\n",
       "    <tr>\n",
       "      <th>6528</th>\n",
       "      <td>RT @HighWireTalk: Former Pfizer VP and Virolog...</td>\n",
       "      <td>0.166667</td>\n",
       "    </tr>\n",
       "    <tr>\n",
       "      <th>6529</th>\n",
       "      <td>@Jenfeds73 @DcrInYYC Respectfully, veterinaria...</td>\n",
       "      <td>0.281250</td>\n",
       "    </tr>\n",
       "    <tr>\n",
       "      <th>6530</th>\n",
       "      <td>RT @WHOAFRO: \"Africa needs millions more doses...</td>\n",
       "      <td>0.166667</td>\n",
       "    </tr>\n",
       "    <tr>\n",
       "      <th>6531</th>\n",
       "      <td>RT @shawajason: Liars. You tried to load off y...</td>\n",
       "      <td>0.000000</td>\n",
       "    </tr>\n",
       "  </tbody>\n",
       "</table>\n",
       "<p>6532 rows × 2 columns</p>\n",
       "</div>"
      ],
      "text/plain": [
       "                                          original_text  polarity\n",
       "0     RT @TelGlobalHealth: 🚨Africa is \"in the midst ...  0.000000\n",
       "1     RT @globalhlthtwit: Dr Moeti is head of WHO in...  0.133333\n",
       "2     RT @NHSRDForum: Thank you @research2note for c...  0.316667\n",
       "3     RT @HighWireTalk: Former Pfizer VP and Virolog...  0.166667\n",
       "4     RT @PeterHotez: I think it’s important that we...  0.300000\n",
       "...                                                 ...       ...\n",
       "6527  RT @Givenkazeni: Zweli please just release the...  0.000000\n",
       "6528  RT @HighWireTalk: Former Pfizer VP and Virolog...  0.166667\n",
       "6529  @Jenfeds73 @DcrInYYC Respectfully, veterinaria...  0.281250\n",
       "6530  RT @WHOAFRO: \"Africa needs millions more doses...  0.166667\n",
       "6531  RT @shawajason: Liars. You tried to load off y...  0.000000\n",
       "\n",
       "[6532 rows x 2 columns]"
      ]
     },
     "execution_count": 32,
     "metadata": {},
     "output_type": "execute_result"
    }
   ],
   "source": [
    "cleanTweet = tweets_df[[\"original_text\", \"polarity\", \"lang\"]]\n",
    "cleanTweet = cleanTweet[cleanTweet[\"lang\"] == \"en\"]\n",
    "cleanTweet.drop(\"lang\", axis=1, inplace=True)\n",
    "cleanTweet"
   ]
  },
  {
   "cell_type": "code",
   "execution_count": 33,
   "metadata": {},
   "outputs": [
    {
     "data": {
      "text/plain": [
       "original_text    0\n",
       "polarity         0\n",
       "dtype: int64"
      ]
     },
     "execution_count": 33,
     "metadata": {},
     "output_type": "execute_result"
    }
   ],
   "source": [
    "# missing values\n",
    "cleanTweet.isna().sum()"
   ]
  },
  {
   "cell_type": "code",
   "execution_count": 34,
   "metadata": {},
   "outputs": [],
   "source": [
    "import re\n",
    "def fix_clean(tweet):\n",
    "    \n",
    "    clean_tweet = re.sub(\"[^a-zA-Z]\",  \" \",  tweet)\n",
    "    return clean_tweet"
   ]
  },
  {
   "cell_type": "code",
   "execution_count": 35,
   "metadata": {},
   "outputs": [
    {
     "data": {
      "text/html": [
       "<div>\n",
       "<style scoped>\n",
       "    .dataframe tbody tr th:only-of-type {\n",
       "        vertical-align: middle;\n",
       "    }\n",
       "\n",
       "    .dataframe tbody tr th {\n",
       "        vertical-align: top;\n",
       "    }\n",
       "\n",
       "    .dataframe thead th {\n",
       "        text-align: right;\n",
       "    }\n",
       "</style>\n",
       "<table border=\"1\" class=\"dataframe\">\n",
       "  <thead>\n",
       "    <tr style=\"text-align: right;\">\n",
       "      <th></th>\n",
       "      <th>polarity</th>\n",
       "      <th>clean-text</th>\n",
       "    </tr>\n",
       "  </thead>\n",
       "  <tbody>\n",
       "    <tr>\n",
       "      <th>0</th>\n",
       "      <td>0.000000</td>\n",
       "      <td>RT  TelGlobalHealth   Africa is  in the midst ...</td>\n",
       "    </tr>\n",
       "    <tr>\n",
       "      <th>1</th>\n",
       "      <td>0.133333</td>\n",
       "      <td>RT  globalhlthtwit  Dr Moeti is head of WHO in...</td>\n",
       "    </tr>\n",
       "    <tr>\n",
       "      <th>2</th>\n",
       "      <td>0.316667</td>\n",
       "      <td>RT  NHSRDForum  Thank you  research note for c...</td>\n",
       "    </tr>\n",
       "    <tr>\n",
       "      <th>3</th>\n",
       "      <td>0.166667</td>\n",
       "      <td>RT  HighWireTalk  Former Pfizer VP and Virolog...</td>\n",
       "    </tr>\n",
       "    <tr>\n",
       "      <th>4</th>\n",
       "      <td>0.300000</td>\n",
       "      <td>RT  PeterHotez  I think it s important that we...</td>\n",
       "    </tr>\n",
       "    <tr>\n",
       "      <th>...</th>\n",
       "      <td>...</td>\n",
       "      <td>...</td>\n",
       "    </tr>\n",
       "    <tr>\n",
       "      <th>6527</th>\n",
       "      <td>0.000000</td>\n",
       "      <td>RT  Givenkazeni  Zweli please just release the...</td>\n",
       "    </tr>\n",
       "    <tr>\n",
       "      <th>6528</th>\n",
       "      <td>0.166667</td>\n",
       "      <td>RT  HighWireTalk  Former Pfizer VP and Virolog...</td>\n",
       "    </tr>\n",
       "    <tr>\n",
       "      <th>6529</th>\n",
       "      <td>0.281250</td>\n",
       "      <td>Jenfeds    DcrInYYC Respectfully  veterinaria...</td>\n",
       "    </tr>\n",
       "    <tr>\n",
       "      <th>6530</th>\n",
       "      <td>0.166667</td>\n",
       "      <td>RT  WHOAFRO   Africa needs millions more doses...</td>\n",
       "    </tr>\n",
       "    <tr>\n",
       "      <th>6531</th>\n",
       "      <td>0.000000</td>\n",
       "      <td>RT  shawajason  Liars  You tried to load off y...</td>\n",
       "    </tr>\n",
       "  </tbody>\n",
       "</table>\n",
       "<p>6532 rows × 2 columns</p>\n",
       "</div>"
      ],
      "text/plain": [
       "      polarity                                         clean-text\n",
       "0     0.000000  RT  TelGlobalHealth   Africa is  in the midst ...\n",
       "1     0.133333  RT  globalhlthtwit  Dr Moeti is head of WHO in...\n",
       "2     0.316667  RT  NHSRDForum  Thank you  research note for c...\n",
       "3     0.166667  RT  HighWireTalk  Former Pfizer VP and Virolog...\n",
       "4     0.300000  RT  PeterHotez  I think it s important that we...\n",
       "...        ...                                                ...\n",
       "6527  0.000000  RT  Givenkazeni  Zweli please just release the...\n",
       "6528  0.166667  RT  HighWireTalk  Former Pfizer VP and Virolog...\n",
       "6529  0.281250   Jenfeds    DcrInYYC Respectfully  veterinaria...\n",
       "6530  0.166667  RT  WHOAFRO   Africa needs millions more doses...\n",
       "6531  0.000000  RT  shawajason  Liars  You tried to load off y...\n",
       "\n",
       "[6532 rows x 2 columns]"
      ]
     },
     "execution_count": 35,
     "metadata": {},
     "output_type": "execute_result"
    }
   ],
   "source": [
    "cleanTweet[\"clean-text\"] = cleanTweet.original_text.apply(fix_clean)\n",
    "cleanTweet.drop(\"original_text\", axis=1, inplace=True)\n",
    "cleanTweet"
   ]
  },
  {
   "cell_type": "code",
   "execution_count": 36,
   "metadata": {},
   "outputs": [],
   "source": [
    "def text_category(p):\n",
    "   \n",
    "    if p > 0:\n",
    "        return \"positive\"\n",
    "    elif p < 0:\n",
    "        return \"negative\"\n",
    "    else:\n",
    "        return \"neutral\""
   ]
  },
  {
   "cell_type": "code",
   "execution_count": 37,
   "metadata": {},
   "outputs": [
    {
     "data": {
      "text/html": [
       "<div>\n",
       "<style scoped>\n",
       "    .dataframe tbody tr th:only-of-type {\n",
       "        vertical-align: middle;\n",
       "    }\n",
       "\n",
       "    .dataframe tbody tr th {\n",
       "        vertical-align: top;\n",
       "    }\n",
       "\n",
       "    .dataframe thead th {\n",
       "        text-align: right;\n",
       "    }\n",
       "</style>\n",
       "<table border=\"1\" class=\"dataframe\">\n",
       "  <thead>\n",
       "    <tr style=\"text-align: right;\">\n",
       "      <th></th>\n",
       "      <th>polarity</th>\n",
       "      <th>clean-text</th>\n",
       "      <th>score</th>\n",
       "    </tr>\n",
       "  </thead>\n",
       "  <tbody>\n",
       "    <tr>\n",
       "      <th>0</th>\n",
       "      <td>0.000000</td>\n",
       "      <td>RT  TelGlobalHealth   Africa is  in the midst ...</td>\n",
       "      <td>neutral</td>\n",
       "    </tr>\n",
       "    <tr>\n",
       "      <th>1</th>\n",
       "      <td>0.133333</td>\n",
       "      <td>RT  globalhlthtwit  Dr Moeti is head of WHO in...</td>\n",
       "      <td>positive</td>\n",
       "    </tr>\n",
       "    <tr>\n",
       "      <th>2</th>\n",
       "      <td>0.316667</td>\n",
       "      <td>RT  NHSRDForum  Thank you  research note for c...</td>\n",
       "      <td>positive</td>\n",
       "    </tr>\n",
       "    <tr>\n",
       "      <th>3</th>\n",
       "      <td>0.166667</td>\n",
       "      <td>RT  HighWireTalk  Former Pfizer VP and Virolog...</td>\n",
       "      <td>positive</td>\n",
       "    </tr>\n",
       "    <tr>\n",
       "      <th>4</th>\n",
       "      <td>0.300000</td>\n",
       "      <td>RT  PeterHotez  I think it s important that we...</td>\n",
       "      <td>positive</td>\n",
       "    </tr>\n",
       "    <tr>\n",
       "      <th>...</th>\n",
       "      <td>...</td>\n",
       "      <td>...</td>\n",
       "      <td>...</td>\n",
       "    </tr>\n",
       "    <tr>\n",
       "      <th>6527</th>\n",
       "      <td>0.000000</td>\n",
       "      <td>RT  Givenkazeni  Zweli please just release the...</td>\n",
       "      <td>neutral</td>\n",
       "    </tr>\n",
       "    <tr>\n",
       "      <th>6528</th>\n",
       "      <td>0.166667</td>\n",
       "      <td>RT  HighWireTalk  Former Pfizer VP and Virolog...</td>\n",
       "      <td>positive</td>\n",
       "    </tr>\n",
       "    <tr>\n",
       "      <th>6529</th>\n",
       "      <td>0.281250</td>\n",
       "      <td>Jenfeds    DcrInYYC Respectfully  veterinaria...</td>\n",
       "      <td>positive</td>\n",
       "    </tr>\n",
       "    <tr>\n",
       "      <th>6530</th>\n",
       "      <td>0.166667</td>\n",
       "      <td>RT  WHOAFRO   Africa needs millions more doses...</td>\n",
       "      <td>positive</td>\n",
       "    </tr>\n",
       "    <tr>\n",
       "      <th>6531</th>\n",
       "      <td>0.000000</td>\n",
       "      <td>RT  shawajason  Liars  You tried to load off y...</td>\n",
       "      <td>neutral</td>\n",
       "    </tr>\n",
       "  </tbody>\n",
       "</table>\n",
       "<p>6532 rows × 3 columns</p>\n",
       "</div>"
      ],
      "text/plain": [
       "      polarity                                         clean-text     score\n",
       "0     0.000000  RT  TelGlobalHealth   Africa is  in the midst ...   neutral\n",
       "1     0.133333  RT  globalhlthtwit  Dr Moeti is head of WHO in...  positive\n",
       "2     0.316667  RT  NHSRDForum  Thank you  research note for c...  positive\n",
       "3     0.166667  RT  HighWireTalk  Former Pfizer VP and Virolog...  positive\n",
       "4     0.300000  RT  PeterHotez  I think it s important that we...  positive\n",
       "...        ...                                                ...       ...\n",
       "6527  0.000000  RT  Givenkazeni  Zweli please just release the...   neutral\n",
       "6528  0.166667  RT  HighWireTalk  Former Pfizer VP and Virolog...  positive\n",
       "6529  0.281250   Jenfeds    DcrInYYC Respectfully  veterinaria...  positive\n",
       "6530  0.166667  RT  WHOAFRO   Africa needs millions more doses...  positive\n",
       "6531  0.000000  RT  shawajason  Liars  You tried to load off y...   neutral\n",
       "\n",
       "[6532 rows x 3 columns]"
      ]
     },
     "execution_count": 37,
     "metadata": {},
     "output_type": "execute_result"
    }
   ],
   "source": [
    "cleanTweet[\"score\"] = cleanTweet[\"polarity\"].apply(text_category)\n",
    "cleanTweet"
   ]
  },
  {
   "cell_type": "code",
   "execution_count": 38,
   "metadata": {},
   "outputs": [
    {
     "data": {
      "text/plain": [
       "positive    2808\n",
       "neutral     2508\n",
       "negative    1216\n",
       "Name: score, dtype: int64"
      ]
     },
     "execution_count": 38,
     "metadata": {},
     "output_type": "execute_result"
    }
   ],
   "source": [
    "sentiment = cleanTweet['score'].value_counts()\n",
    "sentiment"
   ]
  },
  {
   "cell_type": "code",
   "execution_count": 39,
   "metadata": {},
   "outputs": [
    {
     "data": {
      "image/png": "[encoded data removed]",
      "text/plain": [
       "<Figure size 432x288 with 1 Axes>"
      ]
     },
     "metadata": {},
     "output_type": "display_data"
    }
   ],
   "source": [
    "# sentiment pie chart\n",
    "sentiment.plot(kind='pie');"
   ]
  },
  {
   "cell_type": "code",
   "execution_count": 40,
   "metadata": {},
   "outputs": [
    {
     "data": {
      "image/png": "[encoded data removed]",
      "text/plain": [
       "<Figure size 432x288 with 1 Axes>"
      ]
     },
     "metadata": {
      "needs_background": "light"
     },
     "output_type": "display_data"
    }
   ],
   "source": [
    "# sentiment bar chart\n",
    "sentiment.plot(kind='bar');"
   ]
  },
  {
   "cell_type": "markdown",
   "metadata": {},
   "source": [
    "<h3>Build classification model<h3>"
   ]
  },
  {
   "cell_type": "code",
   "execution_count": 41,
   "metadata": {},
   "outputs": [
    {
     "data": {
      "text/html": [
       "<div>\n",
       "<style scoped>\n",
       "    .dataframe tbody tr th:only-of-type {\n",
       "        vertical-align: middle;\n",
       "    }\n",
       "\n",
       "    .dataframe tbody tr th {\n",
       "        vertical-align: top;\n",
       "    }\n",
       "\n",
       "    .dataframe thead th {\n",
       "        text-align: right;\n",
       "    }\n",
       "</style>\n",
       "<table border=\"1\" class=\"dataframe\">\n",
       "  <thead>\n",
       "    <tr style=\"text-align: right;\">\n",
       "      <th></th>\n",
       "      <th>polarity</th>\n",
       "      <th>clean-text</th>\n",
       "      <th>score</th>\n",
       "    </tr>\n",
       "  </thead>\n",
       "  <tbody>\n",
       "    <tr>\n",
       "      <th>1</th>\n",
       "      <td>0.133333</td>\n",
       "      <td>RT  globalhlthtwit  Dr Moeti is head of WHO in...</td>\n",
       "      <td>positive</td>\n",
       "    </tr>\n",
       "    <tr>\n",
       "      <th>2</th>\n",
       "      <td>0.316667</td>\n",
       "      <td>RT  NHSRDForum  Thank you  research note for c...</td>\n",
       "      <td>positive</td>\n",
       "    </tr>\n",
       "    <tr>\n",
       "      <th>3</th>\n",
       "      <td>0.166667</td>\n",
       "      <td>RT  HighWireTalk  Former Pfizer VP and Virolog...</td>\n",
       "      <td>positive</td>\n",
       "    </tr>\n",
       "    <tr>\n",
       "      <th>4</th>\n",
       "      <td>0.300000</td>\n",
       "      <td>RT  PeterHotez  I think it s important that we...</td>\n",
       "      <td>positive</td>\n",
       "    </tr>\n",
       "    <tr>\n",
       "      <th>5</th>\n",
       "      <td>0.644444</td>\n",
       "      <td>RT  CDCDirector  I m pleased to welcome the  W...</td>\n",
       "      <td>positive</td>\n",
       "    </tr>\n",
       "    <tr>\n",
       "      <th>...</th>\n",
       "      <td>...</td>\n",
       "      <td>...</td>\n",
       "      <td>...</td>\n",
       "    </tr>\n",
       "    <tr>\n",
       "      <th>6522</th>\n",
       "      <td>-0.386111</td>\n",
       "      <td>RT  edendomain  The Truth Behind COVID    Vacc...</td>\n",
       "      <td>negative</td>\n",
       "    </tr>\n",
       "    <tr>\n",
       "      <th>6526</th>\n",
       "      <td>0.500000</td>\n",
       "      <td>Although there is not yet a vaccine for kids t...</td>\n",
       "      <td>positive</td>\n",
       "    </tr>\n",
       "    <tr>\n",
       "      <th>6528</th>\n",
       "      <td>0.166667</td>\n",
       "      <td>RT  HighWireTalk  Former Pfizer VP and Virolog...</td>\n",
       "      <td>positive</td>\n",
       "    </tr>\n",
       "    <tr>\n",
       "      <th>6529</th>\n",
       "      <td>0.281250</td>\n",
       "      <td>Jenfeds    DcrInYYC Respectfully  veterinaria...</td>\n",
       "      <td>positive</td>\n",
       "    </tr>\n",
       "    <tr>\n",
       "      <th>6530</th>\n",
       "      <td>0.166667</td>\n",
       "      <td>RT  WHOAFRO   Africa needs millions more doses...</td>\n",
       "      <td>positive</td>\n",
       "    </tr>\n",
       "  </tbody>\n",
       "</table>\n",
       "<p>4024 rows × 3 columns</p>\n",
       "</div>"
      ],
      "text/plain": [
       "      polarity                                         clean-text     score\n",
       "1     0.133333  RT  globalhlthtwit  Dr Moeti is head of WHO in...  positive\n",
       "2     0.316667  RT  NHSRDForum  Thank you  research note for c...  positive\n",
       "3     0.166667  RT  HighWireTalk  Former Pfizer VP and Virolog...  positive\n",
       "4     0.300000  RT  PeterHotez  I think it s important that we...  positive\n",
       "5     0.644444  RT  CDCDirector  I m pleased to welcome the  W...  positive\n",
       "...        ...                                                ...       ...\n",
       "6522 -0.386111  RT  edendomain  The Truth Behind COVID    Vacc...  negative\n",
       "6526  0.500000  Although there is not yet a vaccine for kids t...  positive\n",
       "6528  0.166667  RT  HighWireTalk  Former Pfizer VP and Virolog...  positive\n",
       "6529  0.281250   Jenfeds    DcrInYYC Respectfully  veterinaria...  positive\n",
       "6530  0.166667  RT  WHOAFRO   Africa needs millions more doses...  positive\n",
       "\n",
       "[4024 rows x 3 columns]"
      ]
     },
     "execution_count": 41,
     "metadata": {},
     "output_type": "execute_result"
    }
   ],
   "source": [
    "# remove neutral tweets\n",
    "cleanTweet = cleanTweet[cleanTweet['score'] != 'neutral']\n",
    "cleanTweet"
   ]
  },
  {
   "cell_type": "code",
   "execution_count": 42,
   "metadata": {},
   "outputs": [
    {
     "name": "stderr",
     "output_type": "stream",
     "text": [
      "<ipython-input-42-37dfd1993755>:11: SettingWithCopyWarning: \n",
      "A value is trying to be set on a copy of a slice from a DataFrame.\n",
      "Try using .loc[row_indexer,col_indexer] = value instead\n",
      "\n",
      "See the caveats in the documentation: https://pandas.pydata.org/pandas-docs/stable/user_guide/indexing.html#returning-a-view-versus-a-copy\n",
      "  cleanTweet['scoremap'] = cleanTweet[\"score\"].map(scoremap)\n"
     ]
    },
    {
     "data": {
      "text/html": [
       "<div>\n",
       "<style scoped>\n",
       "    .dataframe tbody tr th:only-of-type {\n",
       "        vertical-align: middle;\n",
       "    }\n",
       "\n",
       "    .dataframe tbody tr th {\n",
       "        vertical-align: top;\n",
       "    }\n",
       "\n",
       "    .dataframe thead th {\n",
       "        text-align: right;\n",
       "    }\n",
       "</style>\n",
       "<table border=\"1\" class=\"dataframe\">\n",
       "  <thead>\n",
       "    <tr style=\"text-align: right;\">\n",
       "      <th></th>\n",
       "      <th>polarity</th>\n",
       "      <th>clean-text</th>\n",
       "      <th>score</th>\n",
       "      <th>scoremap</th>\n",
       "    </tr>\n",
       "  </thead>\n",
       "  <tbody>\n",
       "    <tr>\n",
       "      <th>1</th>\n",
       "      <td>0.133333</td>\n",
       "      <td>RT  globalhlthtwit  Dr Moeti is head of WHO in...</td>\n",
       "      <td>positive</td>\n",
       "      <td>1</td>\n",
       "    </tr>\n",
       "    <tr>\n",
       "      <th>2</th>\n",
       "      <td>0.316667</td>\n",
       "      <td>RT  NHSRDForum  Thank you  research note for c...</td>\n",
       "      <td>positive</td>\n",
       "      <td>1</td>\n",
       "    </tr>\n",
       "    <tr>\n",
       "      <th>3</th>\n",
       "      <td>0.166667</td>\n",
       "      <td>RT  HighWireTalk  Former Pfizer VP and Virolog...</td>\n",
       "      <td>positive</td>\n",
       "      <td>1</td>\n",
       "    </tr>\n",
       "    <tr>\n",
       "      <th>4</th>\n",
       "      <td>0.300000</td>\n",
       "      <td>RT  PeterHotez  I think it s important that we...</td>\n",
       "      <td>positive</td>\n",
       "      <td>1</td>\n",
       "    </tr>\n",
       "    <tr>\n",
       "      <th>5</th>\n",
       "      <td>0.644444</td>\n",
       "      <td>RT  CDCDirector  I m pleased to welcome the  W...</td>\n",
       "      <td>positive</td>\n",
       "      <td>1</td>\n",
       "    </tr>\n",
       "    <tr>\n",
       "      <th>...</th>\n",
       "      <td>...</td>\n",
       "      <td>...</td>\n",
       "      <td>...</td>\n",
       "      <td>...</td>\n",
       "    </tr>\n",
       "    <tr>\n",
       "      <th>6522</th>\n",
       "      <td>-0.386111</td>\n",
       "      <td>RT  edendomain  The Truth Behind COVID    Vacc...</td>\n",
       "      <td>negative</td>\n",
       "      <td>0</td>\n",
       "    </tr>\n",
       "    <tr>\n",
       "      <th>6526</th>\n",
       "      <td>0.500000</td>\n",
       "      <td>Although there is not yet a vaccine for kids t...</td>\n",
       "      <td>positive</td>\n",
       "      <td>1</td>\n",
       "    </tr>\n",
       "    <tr>\n",
       "      <th>6528</th>\n",
       "      <td>0.166667</td>\n",
       "      <td>RT  HighWireTalk  Former Pfizer VP and Virolog...</td>\n",
       "      <td>positive</td>\n",
       "      <td>1</td>\n",
       "    </tr>\n",
       "    <tr>\n",
       "      <th>6529</th>\n",
       "      <td>0.281250</td>\n",
       "      <td>Jenfeds    DcrInYYC Respectfully  veterinaria...</td>\n",
       "      <td>positive</td>\n",
       "      <td>1</td>\n",
       "    </tr>\n",
       "    <tr>\n",
       "      <th>6530</th>\n",
       "      <td>0.166667</td>\n",
       "      <td>RT  WHOAFRO   Africa needs millions more doses...</td>\n",
       "      <td>positive</td>\n",
       "      <td>1</td>\n",
       "    </tr>\n",
       "  </tbody>\n",
       "</table>\n",
       "<p>4024 rows × 4 columns</p>\n",
       "</div>"
      ],
      "text/plain": [
       "      polarity                                         clean-text     score  \\\n",
       "1     0.133333  RT  globalhlthtwit  Dr Moeti is head of WHO in...  positive   \n",
       "2     0.316667  RT  NHSRDForum  Thank you  research note for c...  positive   \n",
       "3     0.166667  RT  HighWireTalk  Former Pfizer VP and Virolog...  positive   \n",
       "4     0.300000  RT  PeterHotez  I think it s important that we...  positive   \n",
       "5     0.644444  RT  CDCDirector  I m pleased to welcome the  W...  positive   \n",
       "...        ...                                                ...       ...   \n",
       "6522 -0.386111  RT  edendomain  The Truth Behind COVID    Vacc...  negative   \n",
       "6526  0.500000  Although there is not yet a vaccine for kids t...  positive   \n",
       "6528  0.166667  RT  HighWireTalk  Former Pfizer VP and Virolog...  positive   \n",
       "6529  0.281250   Jenfeds    DcrInYYC Respectfully  veterinaria...  positive   \n",
       "6530  0.166667  RT  WHOAFRO   Africa needs millions more doses...  positive   \n",
       "\n",
       "      scoremap  \n",
       "1            1  \n",
       "2            1  \n",
       "3            1  \n",
       "4            1  \n",
       "5            1  \n",
       "...        ...  \n",
       "6522         0  \n",
       "6526         1  \n",
       "6528         1  \n",
       "6529         1  \n",
       "6530         1  \n",
       "\n",
       "[4024 rows x 4 columns]"
      ]
     },
     "execution_count": 42,
     "metadata": {},
     "output_type": "execute_result"
    }
   ],
   "source": [
    "# add scoremap column\n",
    "def scoremap(score):\n",
    "    \"\"\"\n",
    "    maps sentiment score to 0 and 1\n",
    "    \"\"\"\n",
    "    if score == \"positive\":\n",
    "        return 1\n",
    "    else:\n",
    "        return 0\n",
    "\n",
    "cleanTweet['scoremap'] = cleanTweet[\"score\"].map(scoremap)\n",
    "cleanTweet"
   ]
  },
  {
   "cell_type": "code",
   "execution_count": 43,
   "metadata": {},
   "outputs": [],
   "source": [
    "from sklearn.feature_extraction.text import CountVectorizer, TfidfTransformer\n",
    "from joblib import dump, load # used for saving and loading sklearn objects\n",
    "from scipy.sparse import save_npz, load_npz # used for saving and loading sparse matrices\n",
    "from sklearn.decomposition import NMF, LatentDirichletAllocation"
   ]
  },
  {
   "cell_type": "code",
   "execution_count": 44,
   "metadata": {},
   "outputs": [
    {
     "name": "stderr",
     "output_type": "stream",
     "text": [
      "A subdirectory or file Preprocessing already exists.\n",
      "A subdirectory or file vectorized already exists.\n"
     ]
    }
   ],
   "source": [
    "!mkdir Preprocessing\n",
    "!mkdir vectorized"
   ]
  },
  {
   "cell_type": "code",
   "execution_count": 45,
   "metadata": {},
   "outputs": [],
   "source": [
    "(X, y) = cleanTweet['clean-text'], cleanTweet['scoremap']"
   ]
  },
  {
   "cell_type": "code",
   "execution_count": 46,
   "metadata": {},
   "outputs": [
    {
     "ename": "FileNotFoundError",
     "evalue": "[Errno 2] No such file or directory: 'data_preprocessors/trigram_vectorizer.joblib'",
     "output_type": "error",
     "traceback": [
      "\u001b[1;31m---------------------------------------------------------------------------\u001b[0m",
      "\u001b[1;31mFileNotFoundError\u001b[0m                         Traceback (most recent call last)",
      "\u001b[1;32m<ipython-input-46-fa2a7e95ff9c>\u001b[0m in \u001b[0;36m<module>\u001b[1;34m\u001b[0m\n\u001b[0;32m      1\u001b[0m \u001b[0mtrigram_vectorizer\u001b[0m \u001b[1;33m=\u001b[0m \u001b[0mCountVectorizer\u001b[0m\u001b[1;33m(\u001b[0m\u001b[0mngram_range\u001b[0m\u001b[1;33m=\u001b[0m\u001b[1;33m(\u001b[0m\u001b[1;36m1\u001b[0m\u001b[1;33m,\u001b[0m \u001b[1;36m3\u001b[0m\u001b[1;33m)\u001b[0m\u001b[1;33m)\u001b[0m\u001b[1;33m\u001b[0m\u001b[1;33m\u001b[0m\u001b[0m\n\u001b[0;32m      2\u001b[0m \u001b[0mtrigram_vectorizer\u001b[0m\u001b[1;33m.\u001b[0m\u001b[0mfit\u001b[0m\u001b[1;33m(\u001b[0m\u001b[0mX\u001b[0m\u001b[1;33m.\u001b[0m\u001b[0mvalues\u001b[0m\u001b[1;33m)\u001b[0m\u001b[1;33m\u001b[0m\u001b[1;33m\u001b[0m\u001b[0m\n\u001b[1;32m----> 3\u001b[1;33m \u001b[0mdump\u001b[0m\u001b[1;33m(\u001b[0m\u001b[0mtrigram_vectorizer\u001b[0m\u001b[1;33m,\u001b[0m \u001b[1;34m'data_preprocessors/trigram_vectorizer.joblib'\u001b[0m\u001b[1;33m)\u001b[0m\u001b[1;33m\u001b[0m\u001b[1;33m\u001b[0m\u001b[0m\n\u001b[0m",
      "\u001b[1;32m~\\miniconda3\\lib\\site-packages\\joblib\\numpy_pickle.py\u001b[0m in \u001b[0;36mdump\u001b[1;34m(value, filename, compress, protocol, cache_size)\u001b[0m\n\u001b[0;32m    477\u001b[0m             \u001b[0mNumpyPickler\u001b[0m\u001b[1;33m(\u001b[0m\u001b[0mf\u001b[0m\u001b[1;33m,\u001b[0m \u001b[0mprotocol\u001b[0m\u001b[1;33m=\u001b[0m\u001b[0mprotocol\u001b[0m\u001b[1;33m)\u001b[0m\u001b[1;33m.\u001b[0m\u001b[0mdump\u001b[0m\u001b[1;33m(\u001b[0m\u001b[0mvalue\u001b[0m\u001b[1;33m)\u001b[0m\u001b[1;33m\u001b[0m\u001b[1;33m\u001b[0m\u001b[0m\n\u001b[0;32m    478\u001b[0m     \u001b[1;32melif\u001b[0m \u001b[0mis_filename\u001b[0m\u001b[1;33m:\u001b[0m\u001b[1;33m\u001b[0m\u001b[1;33m\u001b[0m\u001b[0m\n\u001b[1;32m--> 479\u001b[1;33m         \u001b[1;32mwith\u001b[0m \u001b[0mopen\u001b[0m\u001b[1;33m(\u001b[0m\u001b[0mfilename\u001b[0m\u001b[1;33m,\u001b[0m \u001b[1;34m'wb'\u001b[0m\u001b[1;33m)\u001b[0m \u001b[1;32mas\u001b[0m \u001b[0mf\u001b[0m\u001b[1;33m:\u001b[0m\u001b[1;33m\u001b[0m\u001b[1;33m\u001b[0m\u001b[0m\n\u001b[0m\u001b[0;32m    480\u001b[0m             \u001b[0mNumpyPickler\u001b[0m\u001b[1;33m(\u001b[0m\u001b[0mf\u001b[0m\u001b[1;33m,\u001b[0m \u001b[0mprotocol\u001b[0m\u001b[1;33m=\u001b[0m\u001b[0mprotocol\u001b[0m\u001b[1;33m)\u001b[0m\u001b[1;33m.\u001b[0m\u001b[0mdump\u001b[0m\u001b[1;33m(\u001b[0m\u001b[0mvalue\u001b[0m\u001b[1;33m)\u001b[0m\u001b[1;33m\u001b[0m\u001b[1;33m\u001b[0m\u001b[0m\n\u001b[0;32m    481\u001b[0m     \u001b[1;32melse\u001b[0m\u001b[1;33m:\u001b[0m\u001b[1;33m\u001b[0m\u001b[1;33m\u001b[0m\u001b[0m\n",
      "\u001b[1;31mFileNotFoundError\u001b[0m: [Errno 2] No such file or directory: 'data_preprocessors/trigram_vectorizer.joblib'"
     ]
    }
   ],
   "source": [
    "trigram_vectorizer = CountVectorizer(ngram_range=(1, 3))\n",
    "trigram_vectorizer.fit(X.values)\n",
    "dump(trigram_vectorizer, 'Preprocessing/trigram_vectorizer.joblib')"
   ]
  },
  {
   "cell_type": "code",
   "execution_count": null,
   "metadata": {},
   "outputs": [],
   "source": []
  }
 ],
 "metadata": {
  "colab": {
   "collapsed_sections": [],
   "name": "Challenge_ Day2.ipynb",
   "provenance": []
  },
  "kernelspec": {
   "display_name": "Python 3",
   "language": "python",
   "name": "python3"
  },
  "language_info": {
   "codemirror_mode": {
    "name": "ipython",
    "version": 3
   },
   "file_extension": ".py",
   "mimetype": "text/x-python",
   "name": "python",
   "nbconvert_exporter": "python",
   "pygments_lexer": "ipython3",
   "version": "3.9.1"
  }
 },
 "nbformat": 4,
 "nbformat_minor": 1
}
